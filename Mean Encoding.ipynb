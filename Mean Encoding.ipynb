{
 "cells": [
  {
   "cell_type": "code",
   "execution_count": 1,
   "id": "d60e449f",
   "metadata": {},
   "outputs": [],
   "source": [
    "import pandas as pd\n",
    "import numpy as np"
   ]
  },
  {
   "cell_type": "code",
   "execution_count": 2,
   "id": "b3dc0636",
   "metadata": {},
   "outputs": [],
   "source": [
    "data=pd.read_csv(\"cars.csv\")"
   ]
  },
  {
   "cell_type": "code",
   "execution_count": 3,
   "id": "7d8be93e",
   "metadata": {},
   "outputs": [
    {
     "data": {
      "text/html": [
       "<div>\n",
       "<style scoped>\n",
       "    .dataframe tbody tr th:only-of-type {\n",
       "        vertical-align: middle;\n",
       "    }\n",
       "\n",
       "    .dataframe tbody tr th {\n",
       "        vertical-align: top;\n",
       "    }\n",
       "\n",
       "    .dataframe thead th {\n",
       "        text-align: right;\n",
       "    }\n",
       "</style>\n",
       "<table border=\"1\" class=\"dataframe\">\n",
       "  <thead>\n",
       "    <tr style=\"text-align: right;\">\n",
       "      <th></th>\n",
       "      <th>brand</th>\n",
       "      <th>km_driven</th>\n",
       "      <th>fuel</th>\n",
       "      <th>owner</th>\n",
       "      <th>selling_price</th>\n",
       "    </tr>\n",
       "  </thead>\n",
       "  <tbody>\n",
       "    <tr>\n",
       "      <th>0</th>\n",
       "      <td>Maruti</td>\n",
       "      <td>145500</td>\n",
       "      <td>Diesel</td>\n",
       "      <td>First Owner</td>\n",
       "      <td>450000</td>\n",
       "    </tr>\n",
       "    <tr>\n",
       "      <th>1</th>\n",
       "      <td>Skoda</td>\n",
       "      <td>120000</td>\n",
       "      <td>Diesel</td>\n",
       "      <td>Second Owner</td>\n",
       "      <td>370000</td>\n",
       "    </tr>\n",
       "    <tr>\n",
       "      <th>2</th>\n",
       "      <td>Honda</td>\n",
       "      <td>140000</td>\n",
       "      <td>Petrol</td>\n",
       "      <td>Third Owner</td>\n",
       "      <td>158000</td>\n",
       "    </tr>\n",
       "    <tr>\n",
       "      <th>3</th>\n",
       "      <td>Hyundai</td>\n",
       "      <td>127000</td>\n",
       "      <td>Diesel</td>\n",
       "      <td>First Owner</td>\n",
       "      <td>225000</td>\n",
       "    </tr>\n",
       "    <tr>\n",
       "      <th>4</th>\n",
       "      <td>Maruti</td>\n",
       "      <td>120000</td>\n",
       "      <td>Petrol</td>\n",
       "      <td>First Owner</td>\n",
       "      <td>130000</td>\n",
       "    </tr>\n",
       "  </tbody>\n",
       "</table>\n",
       "</div>"
      ],
      "text/plain": [
       "     brand  km_driven    fuel         owner  selling_price\n",
       "0   Maruti     145500  Diesel   First Owner         450000\n",
       "1    Skoda     120000  Diesel  Second Owner         370000\n",
       "2    Honda     140000  Petrol   Third Owner         158000\n",
       "3  Hyundai     127000  Diesel   First Owner         225000\n",
       "4   Maruti     120000  Petrol   First Owner         130000"
      ]
     },
     "execution_count": 3,
     "metadata": {},
     "output_type": "execute_result"
    }
   ],
   "source": [
    "data.head()"
   ]
  },
  {
   "cell_type": "markdown",
   "id": "1350b0d2",
   "metadata": {},
   "source": [
    "### mean encoding technique : based on label count find the mean and replace\n",
    "here will use target and will learn the mean encoding technique "
   ]
  },
  {
   "cell_type": "markdown",
   "id": "f8972970",
   "metadata": {},
   "source": [
    "We apply mean encoding on brand column"
   ]
  },
  {
   "cell_type": "code",
   "execution_count": 4,
   "id": "5b01195c",
   "metadata": {},
   "outputs": [
    {
     "data": {
      "text/plain": [
       "array(['Maruti', 'Skoda', 'Honda', 'Hyundai', 'Toyota', 'Ford', 'Renault',\n",
       "       'Mahindra', 'Tata', 'Chevrolet', 'Fiat', 'Datsun', 'Jeep',\n",
       "       'Mercedes-Benz', 'Mitsubishi', 'Audi', 'Volkswagen', 'BMW',\n",
       "       'Nissan', 'Lexus', 'Jaguar', 'Land', 'MG', 'Volvo', 'Daewoo',\n",
       "       'Kia', 'Force', 'Ambassador', 'Ashok', 'Isuzu', 'Opel', 'Peugeot'],\n",
       "      dtype=object)"
      ]
     },
     "execution_count": 4,
     "metadata": {},
     "output_type": "execute_result"
    }
   ],
   "source": [
    "data['brand'].unique()"
   ]
  },
  {
   "cell_type": "code",
   "execution_count": 5,
   "id": "e340c503",
   "metadata": {},
   "outputs": [
    {
     "data": {
      "text/plain": [
       "Maruti           2448\n",
       "Hyundai          1415\n",
       "Mahindra          772\n",
       "Tata              734\n",
       "Toyota            488\n",
       "Honda             467\n",
       "Ford              397\n",
       "Chevrolet         230\n",
       "Renault           228\n",
       "Volkswagen        186\n",
       "BMW               120\n",
       "Skoda             105\n",
       "Nissan             81\n",
       "Jaguar             71\n",
       "Volvo              67\n",
       "Datsun             65\n",
       "Mercedes-Benz      54\n",
       "Fiat               47\n",
       "Audi               40\n",
       "Lexus              34\n",
       "Jeep               31\n",
       "Mitsubishi         14\n",
       "Force               6\n",
       "Land                6\n",
       "Isuzu               5\n",
       "Kia                 4\n",
       "Ambassador          4\n",
       "Daewoo              3\n",
       "MG                  3\n",
       "Ashok               1\n",
       "Opel                1\n",
       "Peugeot             1\n",
       "Name: brand, dtype: int64"
      ]
     },
     "execution_count": 5,
     "metadata": {},
     "output_type": "execute_result"
    }
   ],
   "source": [
    "data['brand'].value_counts()"
   ]
  },
  {
   "cell_type": "markdown",
   "id": "de7d57bf",
   "metadata": {},
   "source": [
    "# Mean Encoding"
   ]
  },
  {
   "cell_type": "code",
   "execution_count": 13,
   "id": "b5fb1622",
   "metadata": {},
   "outputs": [],
   "source": [
    "mean1 = data.groupby(['brand'])['selling_price'].mean().to_dict()"
   ]
  },
  {
   "cell_type": "code",
   "execution_count": 14,
   "id": "e5774e3d",
   "metadata": {},
   "outputs": [
    {
     "data": {
      "text/plain": [
       "{'Ambassador': 124000.0,\n",
       " 'Ashok': 300000.0,\n",
       " 'Audi': 2612199.925,\n",
       " 'BMW': 4109916.6666666665,\n",
       " 'Chevrolet': 273867.47826086957,\n",
       " 'Daewoo': 77000.0,\n",
       " 'Datsun': 314599.95384615386,\n",
       " 'Fiat': 296063.78723404254,\n",
       " 'Force': 887500.0,\n",
       " 'Ford': 516682.58186397987,\n",
       " 'Honda': 596178.0149892934,\n",
       " 'Hyundai': 458554.3667844523,\n",
       " 'Isuzu': 1942000.0,\n",
       " 'Jaguar': 2915464.7887323946,\n",
       " 'Jeep': 2149612.870967742,\n",
       " 'Kia': 1504500.0,\n",
       " 'Land': 3608333.3333333335,\n",
       " 'Lexus': 5150000.0,\n",
       " 'MG': 1783333.3333333333,\n",
       " 'Mahindra': 623224.0556994819,\n",
       " 'Maruti': 403075.7214052288,\n",
       " 'Mercedes-Benz': 2470444.4444444445,\n",
       " 'Mitsubishi': 817500.0,\n",
       " 'Nissan': 465407.35802469135,\n",
       " 'Opel': 68000.0,\n",
       " 'Peugeot': 57000.0,\n",
       " 'Renault': 462618.38157894736,\n",
       " 'Skoda': 607723.7714285714,\n",
       " 'Tata': 357433.1076294278,\n",
       " 'Toyota': 959946.6741803279,\n",
       " 'Volkswagen': 498817.188172043,\n",
       " 'Volvo': 3272014.925373134}"
      ]
     },
     "execution_count": 14,
     "metadata": {},
     "output_type": "execute_result"
    }
   ],
   "source": [
    "mean1"
   ]
  },
  {
   "cell_type": "code",
   "execution_count": 15,
   "id": "37acdddc",
   "metadata": {},
   "outputs": [],
   "source": [
    "data['brand']= data['brand'].map(mean1)"
   ]
  },
  {
   "cell_type": "code",
   "execution_count": 16,
   "id": "7e3762aa",
   "metadata": {},
   "outputs": [
    {
     "data": {
      "text/plain": [
       "0       403075.721405\n",
       "1       607723.771429\n",
       "2       596178.014989\n",
       "3       458554.366784\n",
       "4       403075.721405\n",
       "            ...      \n",
       "8123    458554.366784\n",
       "8124    458554.366784\n",
       "8125    403075.721405\n",
       "8126    357433.107629\n",
       "8127    357433.107629\n",
       "Name: brand, Length: 8128, dtype: float64"
      ]
     },
     "execution_count": 16,
     "metadata": {},
     "output_type": "execute_result"
    }
   ],
   "source": [
    "data['brand']"
   ]
  },
  {
   "cell_type": "code",
   "execution_count": 20,
   "id": "5bfa38b2",
   "metadata": {},
   "outputs": [
    {
     "data": {
      "text/html": [
       "<div>\n",
       "<style scoped>\n",
       "    .dataframe tbody tr th:only-of-type {\n",
       "        vertical-align: middle;\n",
       "    }\n",
       "\n",
       "    .dataframe tbody tr th {\n",
       "        vertical-align: top;\n",
       "    }\n",
       "\n",
       "    .dataframe thead th {\n",
       "        text-align: right;\n",
       "    }\n",
       "</style>\n",
       "<table border=\"1\" class=\"dataframe\">\n",
       "  <thead>\n",
       "    <tr style=\"text-align: right;\">\n",
       "      <th></th>\n",
       "      <th>brand</th>\n",
       "      <th>km_driven</th>\n",
       "      <th>fuel</th>\n",
       "      <th>owner</th>\n",
       "      <th>selling_price</th>\n",
       "    </tr>\n",
       "  </thead>\n",
       "  <tbody>\n",
       "    <tr>\n",
       "      <th>0</th>\n",
       "      <td>403075.721405</td>\n",
       "      <td>145500</td>\n",
       "      <td>Diesel</td>\n",
       "      <td>First Owner</td>\n",
       "      <td>450000</td>\n",
       "    </tr>\n",
       "    <tr>\n",
       "      <th>1</th>\n",
       "      <td>607723.771429</td>\n",
       "      <td>120000</td>\n",
       "      <td>Diesel</td>\n",
       "      <td>Second Owner</td>\n",
       "      <td>370000</td>\n",
       "    </tr>\n",
       "    <tr>\n",
       "      <th>2</th>\n",
       "      <td>596178.014989</td>\n",
       "      <td>140000</td>\n",
       "      <td>Petrol</td>\n",
       "      <td>Third Owner</td>\n",
       "      <td>158000</td>\n",
       "    </tr>\n",
       "    <tr>\n",
       "      <th>3</th>\n",
       "      <td>458554.366784</td>\n",
       "      <td>127000</td>\n",
       "      <td>Diesel</td>\n",
       "      <td>First Owner</td>\n",
       "      <td>225000</td>\n",
       "    </tr>\n",
       "    <tr>\n",
       "      <th>4</th>\n",
       "      <td>403075.721405</td>\n",
       "      <td>120000</td>\n",
       "      <td>Petrol</td>\n",
       "      <td>First Owner</td>\n",
       "      <td>130000</td>\n",
       "    </tr>\n",
       "  </tbody>\n",
       "</table>\n",
       "</div>"
      ],
      "text/plain": [
       "           brand  km_driven    fuel         owner  selling_price\n",
       "0  403075.721405     145500  Diesel   First Owner         450000\n",
       "1  607723.771429     120000  Diesel  Second Owner         370000\n",
       "2  596178.014989     140000  Petrol   Third Owner         158000\n",
       "3  458554.366784     127000  Diesel   First Owner         225000\n",
       "4  403075.721405     120000  Petrol   First Owner         130000"
      ]
     },
     "execution_count": 20,
     "metadata": {},
     "output_type": "execute_result"
    }
   ],
   "source": [
    "data.head()"
   ]
  },
  {
   "cell_type": "code",
   "execution_count": 21,
   "id": "bbecb579",
   "metadata": {},
   "outputs": [
    {
     "data": {
      "text/plain": [
       "array([ 403075.72140523,  607723.77142857,  596178.01498929,\n",
       "        458554.36678445,  959946.67418033,  516682.58186398,\n",
       "        462618.38157895,  623224.05569948,  357433.10762943,\n",
       "        273867.47826087,  296063.78723404,  314599.95384615,\n",
       "       2149612.87096774, 2470444.44444444,  817500.        ,\n",
       "       2612199.925     ,  498817.18817204, 4109916.66666667,\n",
       "        465407.35802469, 5150000.        , 2915464.78873239,\n",
       "       3608333.33333333, 1783333.33333333, 3272014.92537313,\n",
       "         77000.        , 1504500.        ,  887500.        ,\n",
       "        124000.        ,  300000.        , 1942000.        ,\n",
       "         68000.        ,   57000.        ])"
      ]
     },
     "execution_count": 21,
     "metadata": {},
     "output_type": "execute_result"
    }
   ],
   "source": [
    "data['brand'].unique()"
   ]
  },
  {
   "cell_type": "code",
   "execution_count": 22,
   "id": "c689de71",
   "metadata": {},
   "outputs": [
    {
     "data": {
      "text/plain": [
       "4.030757e+05    2448\n",
       "4.585544e+05    1415\n",
       "6.232241e+05     772\n",
       "3.574331e+05     734\n",
       "9.599467e+05     488\n",
       "5.961780e+05     467\n",
       "5.166826e+05     397\n",
       "2.738675e+05     230\n",
       "4.626184e+05     228\n",
       "4.988172e+05     186\n",
       "4.109917e+06     120\n",
       "6.077238e+05     105\n",
       "4.654074e+05      81\n",
       "2.915465e+06      71\n",
       "3.272015e+06      67\n",
       "3.146000e+05      65\n",
       "2.470444e+06      54\n",
       "2.960638e+05      47\n",
       "2.612200e+06      40\n",
       "5.150000e+06      34\n",
       "2.149613e+06      31\n",
       "8.175000e+05      14\n",
       "8.875000e+05       6\n",
       "3.608333e+06       6\n",
       "1.942000e+06       5\n",
       "1.504500e+06       4\n",
       "1.240000e+05       4\n",
       "7.700000e+04       3\n",
       "1.783333e+06       3\n",
       "3.000000e+05       1\n",
       "6.800000e+04       1\n",
       "5.700000e+04       1\n",
       "Name: brand, dtype: int64"
      ]
     },
     "execution_count": 22,
     "metadata": {},
     "output_type": "execute_result"
    }
   ],
   "source": [
    "data['brand'].value_counts()"
   ]
  },
  {
   "cell_type": "code",
   "execution_count": null,
   "id": "c4d9dde8",
   "metadata": {},
   "outputs": [],
   "source": []
  }
 ],
 "metadata": {
  "kernelspec": {
   "display_name": "Python 3 (ipykernel)",
   "language": "python",
   "name": "python3"
  },
  "language_info": {
   "codemirror_mode": {
    "name": "ipython",
    "version": 3
   },
   "file_extension": ".py",
   "mimetype": "text/x-python",
   "name": "python",
   "nbconvert_exporter": "python",
   "pygments_lexer": "ipython3",
   "version": "3.10.9"
  }
 },
 "nbformat": 4,
 "nbformat_minor": 5
}
